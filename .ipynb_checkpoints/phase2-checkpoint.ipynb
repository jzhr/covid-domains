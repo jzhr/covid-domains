{
 "cells": [
  {
   "cell_type": "markdown",
   "metadata": {},
   "source": [
    "# Phase 2: Data Collection"
   ]
  },
  {
   "cell_type": "markdown",
   "metadata": {},
   "source": [
    "## Jason Zheng, jz449"
   ]
  },
  {
   "cell_type": "code",
   "execution_count": 125,
   "metadata": {},
   "outputs": [],
   "source": [
    "import requests\n",
    "import numpy as np\n",
    "import pandas as pd\n",
    "import matplotlib.pyplot as plt\n",
    "import json\n",
    "import io\n",
    "import sys\n",
    "import datetime\n",
    "from pandas.core.common import SettingWithCopyWarning\n",
    "import warnings"
   ]
  },
  {
   "cell_type": "code",
   "execution_count": 126,
   "metadata": {},
   "outputs": [],
   "source": [
    "response = requests.get(\"https://api.covid19api.com/all\")\n",
    "data = response.json()\n",
    "df_uscovid = pd.DataFrame.from_records(data)"
   ]
  },
  {
   "cell_type": "code",
   "execution_count": 127,
   "metadata": {},
   "outputs": [],
   "source": [
    "df_uscovid = df_uscovid.drop(columns=['CountryCode', 'City', 'CityCode', 'Lat', 'Lon', 'Active'])\n",
    "df_uscovid = df_uscovid[df_uscovid['Country']=='United States of America']\n",
    "\n",
    "# Converting date format: https://stackoverflow.com/questions/26763344/convert-pandas-column-to-datetime\n",
    "df_uscovid['Date'] = pd.to_datetime(df_uscovid['Date'], format=\"%Y-%m-%dT%H:%M:%SZ\")"
   ]
  },
  {
   "cell_type": "markdown",
   "metadata": {},
   "source": [
    "Looking at the filtered dataframe more closely, we see that there are entries with missing Province values. These entries correspond to U.S totals, which are inherently different than the day-by-day state data. Therefore, we will extract these entries as these are what we want to analyze."
   ]
  },
  {
   "cell_type": "code",
   "execution_count": 128,
   "metadata": {},
   "outputs": [],
   "source": [
    "df_uscovid = df_uscovid[df_uscovid['Province']=='']\n",
    "df_uscovid = df_uscovid.drop(columns=['Province'])"
   ]
  },
  {
   "cell_type": "markdown",
   "metadata": {},
   "source": [
    "Now we will create columns for daily counts of confirmed, death, and recovered cases."
   ]
  },
  {
   "cell_type": "code",
   "execution_count": 129,
   "metadata": {},
   "outputs": [],
   "source": [
    "df_uscovid[\"Daily Confirmed\"] = df_uscovid[\"Confirmed\"].diff()\n",
    "df_uscovid[\"Daily Deaths\"] = df_uscovid[\"Deaths\"].diff()\n",
    "df_uscovid[\"Daily Recovered\"] = df_uscovid[\"Recovered\"].diff()"
   ]
  },
  {
   "cell_type": "code",
   "execution_count": 130,
   "metadata": {},
   "outputs": [
    {
     "data": {
      "text/html": [
       "<div>\n",
       "<style scoped>\n",
       "    .dataframe tbody tr th:only-of-type {\n",
       "        vertical-align: middle;\n",
       "    }\n",
       "\n",
       "    .dataframe tbody tr th {\n",
       "        vertical-align: top;\n",
       "    }\n",
       "\n",
       "    .dataframe thead th {\n",
       "        text-align: right;\n",
       "    }\n",
       "</style>\n",
       "<table border=\"1\" class=\"dataframe\">\n",
       "  <thead>\n",
       "    <tr style=\"text-align: right;\">\n",
       "      <th></th>\n",
       "      <th>Country</th>\n",
       "      <th>Confirmed</th>\n",
       "      <th>Deaths</th>\n",
       "      <th>Recovered</th>\n",
       "      <th>Date</th>\n",
       "      <th>Daily Confirmed</th>\n",
       "      <th>Daily Deaths</th>\n",
       "      <th>Daily Recovered</th>\n",
       "    </tr>\n",
       "  </thead>\n",
       "  <tbody>\n",
       "    <tr>\n",
       "      <td>32102</td>\n",
       "      <td>United States of America</td>\n",
       "      <td>1</td>\n",
       "      <td>0</td>\n",
       "      <td>0</td>\n",
       "      <td>2020-01-22</td>\n",
       "      <td>NaN</td>\n",
       "      <td>NaN</td>\n",
       "      <td>NaN</td>\n",
       "    </tr>\n",
       "    <tr>\n",
       "      <td>34191</td>\n",
       "      <td>United States of America</td>\n",
       "      <td>1</td>\n",
       "      <td>0</td>\n",
       "      <td>0</td>\n",
       "      <td>2020-01-23</td>\n",
       "      <td>0.0</td>\n",
       "      <td>0.0</td>\n",
       "      <td>0.0</td>\n",
       "    </tr>\n",
       "    <tr>\n",
       "      <td>37030</td>\n",
       "      <td>United States of America</td>\n",
       "      <td>2</td>\n",
       "      <td>0</td>\n",
       "      <td>0</td>\n",
       "      <td>2020-01-24</td>\n",
       "      <td>1.0</td>\n",
       "      <td>0.0</td>\n",
       "      <td>0.0</td>\n",
       "    </tr>\n",
       "    <tr>\n",
       "      <td>42691</td>\n",
       "      <td>United States of America</td>\n",
       "      <td>2</td>\n",
       "      <td>0</td>\n",
       "      <td>0</td>\n",
       "      <td>2020-01-25</td>\n",
       "      <td>0.0</td>\n",
       "      <td>0.0</td>\n",
       "      <td>0.0</td>\n",
       "    </tr>\n",
       "    <tr>\n",
       "      <td>43003</td>\n",
       "      <td>United States of America</td>\n",
       "      <td>5</td>\n",
       "      <td>0</td>\n",
       "      <td>0</td>\n",
       "      <td>2020-01-26</td>\n",
       "      <td>3.0</td>\n",
       "      <td>0.0</td>\n",
       "      <td>0.0</td>\n",
       "    </tr>\n",
       "  </tbody>\n",
       "</table>\n",
       "</div>"
      ],
      "text/plain": [
       "                        Country  Confirmed  Deaths  Recovered       Date  \\\n",
       "32102  United States of America          1       0          0 2020-01-22   \n",
       "34191  United States of America          1       0          0 2020-01-23   \n",
       "37030  United States of America          2       0          0 2020-01-24   \n",
       "42691  United States of America          2       0          0 2020-01-25   \n",
       "43003  United States of America          5       0          0 2020-01-26   \n",
       "\n",
       "       Daily Confirmed  Daily Deaths  Daily Recovered  \n",
       "32102              NaN           NaN              NaN  \n",
       "34191              0.0           0.0              0.0  \n",
       "37030              1.0           0.0              0.0  \n",
       "42691              0.0           0.0              0.0  \n",
       "43003              3.0           0.0              0.0  "
      ]
     },
     "execution_count": 130,
     "metadata": {},
     "output_type": "execute_result"
    }
   ],
   "source": [
    "df_uscovid.head()"
   ]
  },
  {
   "cell_type": "markdown",
   "metadata": {},
   "source": [
    "## Domain Data"
   ]
  },
  {
   "cell_type": "markdown",
   "metadata": {},
   "source": [
    "### Analysis-Ready Dataset #1"
   ]
  },
  {
   "cell_type": "code",
   "execution_count": 131,
   "metadata": {},
   "outputs": [],
   "source": [
    "df_domains = pd.read_csv('domains.csv', engine='python')"
   ]
  },
  {
   "cell_type": "code",
   "execution_count": 132,
   "metadata": {},
   "outputs": [],
   "source": [
    "df_domains = df_domains.drop(columns=['Domain', 'Registration', 'Expires', 'Registrant', 'Administrative Contact', 'Nameservers', 'Registrar Contact', 'WHOIS Server', 'Contact Email'])"
   ]
  },
  {
   "cell_type": "code",
   "execution_count": 133,
   "metadata": {
    "scrolled": true
   },
   "outputs": [
    {
     "data": {
      "text/html": [
       "<div>\n",
       "<style scoped>\n",
       "    .dataframe tbody tr th:only-of-type {\n",
       "        vertical-align: middle;\n",
       "    }\n",
       "\n",
       "    .dataframe tbody tr th {\n",
       "        vertical-align: top;\n",
       "    }\n",
       "\n",
       "    .dataframe thead th {\n",
       "        text-align: right;\n",
       "    }\n",
       "</style>\n",
       "<table border=\"1\" class=\"dataframe\">\n",
       "  <thead>\n",
       "    <tr style=\"text-align: right;\">\n",
       "      <th></th>\n",
       "      <th>Updated</th>\n",
       "      <th>registrarName</th>\n",
       "      <th>Ext.</th>\n",
       "    </tr>\n",
       "  </thead>\n",
       "  <tbody>\n",
       "    <tr>\n",
       "      <td>0</td>\n",
       "      <td>NaN</td>\n",
       "      <td>GoDaddy.com, LLC</td>\n",
       "      <td>.info</td>\n",
       "    </tr>\n",
       "    <tr>\n",
       "      <td>1</td>\n",
       "      <td>2020-03-21T04:58:10Z</td>\n",
       "      <td>GoDaddy.com, LLC</td>\n",
       "      <td>.com</td>\n",
       "    </tr>\n",
       "    <tr>\n",
       "      <td>2</td>\n",
       "      <td>2020-03-20T16:29:34Z</td>\n",
       "      <td>GoDaddy.com, LLC</td>\n",
       "      <td>.com</td>\n",
       "    </tr>\n",
       "    <tr>\n",
       "      <td>3</td>\n",
       "      <td>NaN</td>\n",
       "      <td>NaN</td>\n",
       "      <td>.site</td>\n",
       "    </tr>\n",
       "    <tr>\n",
       "      <td>4</td>\n",
       "      <td>2020-02-25T21:16:24Z</td>\n",
       "      <td>GoDaddy.com, LLC</td>\n",
       "      <td>.com</td>\n",
       "    </tr>\n",
       "  </tbody>\n",
       "</table>\n",
       "</div>"
      ],
      "text/plain": [
       "                Updated     registrarName   Ext.\n",
       "0                   NaN  GoDaddy.com, LLC  .info\n",
       "1  2020-03-21T04:58:10Z  GoDaddy.com, LLC   .com\n",
       "2  2020-03-20T16:29:34Z  GoDaddy.com, LLC   .com\n",
       "3                   NaN               NaN  .site\n",
       "4  2020-02-25T21:16:24Z  GoDaddy.com, LLC   .com"
      ]
     },
     "execution_count": 133,
     "metadata": {},
     "output_type": "execute_result"
    }
   ],
   "source": [
    "df_domains.head()"
   ]
  },
  {
   "cell_type": "markdown",
   "metadata": {},
   "source": [
    "As we can see, some of the entries in the data have NaN values. Therefore, we will create a new dataframe that drops all NaN entries in the 'Updated' column, as they do not tell us when the website was registered."
   ]
  },
  {
   "cell_type": "code",
   "execution_count": 134,
   "metadata": {},
   "outputs": [],
   "source": [
    "df_domains_updated = df_domains.dropna(subset=['Updated'])"
   ]
  },
  {
   "cell_type": "code",
   "execution_count": 146,
   "metadata": {
    "scrolled": true
   },
   "outputs": [],
   "source": [
    "warnings.simplefilter(action=\"ignore\", category=SettingWithCopyWarning)\n",
    "df_domains_updated['Updated'] = pd.to_datetime(df_domains_updated['Updated'], utc=True, errors='coerce').dt.date"
   ]
  },
  {
   "cell_type": "code",
   "execution_count": 136,
   "metadata": {},
   "outputs": [],
   "source": [
    "# https://stackoverflow.com/questions/45619371/how-can-i-use-pandas-to-count-values-for-each-date-in-a-dataframe\n",
    "df_domains_counts = df_domains_updated.groupby('Updated').size()"
   ]
  },
  {
   "cell_type": "code",
   "execution_count": 137,
   "metadata": {},
   "outputs": [],
   "source": [
    "df_domains_counts = df_domains_counts.to_frame()"
   ]
  },
  {
   "cell_type": "code",
   "execution_count": 138,
   "metadata": {},
   "outputs": [],
   "source": [
    "df_domains_counts = df_domains_counts.reset_index()"
   ]
  },
  {
   "cell_type": "code",
   "execution_count": 139,
   "metadata": {},
   "outputs": [],
   "source": [
    "df_domains_counts.columns = ['Date','Count']"
   ]
  },
  {
   "cell_type": "code",
   "execution_count": 140,
   "metadata": {},
   "outputs": [],
   "source": [
    "# Cumulative sum column: https://stackoverflow.com/questions/41859311/cumsum-as-a-new-column-in-an-existing-pandas-data/41859343\n",
    "df_domains_counts['Cumulative Count'] = df_domains_counts['Count'].cumsum()"
   ]
  },
  {
   "cell_type": "code",
   "execution_count": 141,
   "metadata": {},
   "outputs": [
    {
     "data": {
      "text/html": [
       "<div>\n",
       "<style scoped>\n",
       "    .dataframe tbody tr th:only-of-type {\n",
       "        vertical-align: middle;\n",
       "    }\n",
       "\n",
       "    .dataframe tbody tr th {\n",
       "        vertical-align: top;\n",
       "    }\n",
       "\n",
       "    .dataframe thead th {\n",
       "        text-align: right;\n",
       "    }\n",
       "</style>\n",
       "<table border=\"1\" class=\"dataframe\">\n",
       "  <thead>\n",
       "    <tr style=\"text-align: right;\">\n",
       "      <th></th>\n",
       "      <th>Date</th>\n",
       "      <th>Count</th>\n",
       "      <th>Cumulative Count</th>\n",
       "    </tr>\n",
       "  </thead>\n",
       "  <tbody>\n",
       "    <tr>\n",
       "      <td>123</td>\n",
       "      <td>2020-04-18</td>\n",
       "      <td>69</td>\n",
       "      <td>48874</td>\n",
       "    </tr>\n",
       "    <tr>\n",
       "      <td>124</td>\n",
       "      <td>2020-04-19</td>\n",
       "      <td>88</td>\n",
       "      <td>48962</td>\n",
       "    </tr>\n",
       "    <tr>\n",
       "      <td>125</td>\n",
       "      <td>2020-04-20</td>\n",
       "      <td>79</td>\n",
       "      <td>49041</td>\n",
       "    </tr>\n",
       "    <tr>\n",
       "      <td>126</td>\n",
       "      <td>2020-04-21</td>\n",
       "      <td>44</td>\n",
       "      <td>49085</td>\n",
       "    </tr>\n",
       "    <tr>\n",
       "      <td>127</td>\n",
       "      <td>2020-04-22</td>\n",
       "      <td>14</td>\n",
       "      <td>49099</td>\n",
       "    </tr>\n",
       "  </tbody>\n",
       "</table>\n",
       "</div>"
      ],
      "text/plain": [
       "           Date  Count  Cumulative Count\n",
       "123  2020-04-18     69             48874\n",
       "124  2020-04-19     88             48962\n",
       "125  2020-04-20     79             49041\n",
       "126  2020-04-21     44             49085\n",
       "127  2020-04-22     14             49099"
      ]
     },
     "execution_count": 141,
     "metadata": {},
     "output_type": "execute_result"
    }
   ],
   "source": [
    "df_domains_counts.tail()"
   ]
  },
  {
   "cell_type": "markdown",
   "metadata": {},
   "source": [
    "### Analysis-Ready Dataset #2"
   ]
  },
  {
   "cell_type": "markdown",
   "metadata": {},
   "source": [
    "To create our second analysis-ready dataset from the domain data (that only contains registrar and extension information), we will simply drop one more column, 'Updated', and drop rows with NaN values in the remaining columns 'registrarName' and 'Ext.'. "
   ]
  },
  {
   "cell_type": "code",
   "execution_count": 142,
   "metadata": {},
   "outputs": [],
   "source": [
    "df_domains_regext = df_domains.drop(columns=['Updated'])"
   ]
  },
  {
   "cell_type": "code",
   "execution_count": 143,
   "metadata": {},
   "outputs": [],
   "source": [
    "df_domains_regext = df_domains_regext.dropna(subset=['registrarName', 'Ext.'])"
   ]
  },
  {
   "cell_type": "code",
   "execution_count": 144,
   "metadata": {},
   "outputs": [
    {
     "data": {
      "text/html": [
       "<div>\n",
       "<style scoped>\n",
       "    .dataframe tbody tr th:only-of-type {\n",
       "        vertical-align: middle;\n",
       "    }\n",
       "\n",
       "    .dataframe tbody tr th {\n",
       "        vertical-align: top;\n",
       "    }\n",
       "\n",
       "    .dataframe thead th {\n",
       "        text-align: right;\n",
       "    }\n",
       "</style>\n",
       "<table border=\"1\" class=\"dataframe\">\n",
       "  <thead>\n",
       "    <tr style=\"text-align: right;\">\n",
       "      <th></th>\n",
       "      <th>registrarName</th>\n",
       "      <th>Ext.</th>\n",
       "    </tr>\n",
       "  </thead>\n",
       "  <tbody>\n",
       "    <tr>\n",
       "      <td>92949</td>\n",
       "      <td>Cronon AG</td>\n",
       "      <td>.info</td>\n",
       "    </tr>\n",
       "    <tr>\n",
       "      <td>92952</td>\n",
       "      <td>Mesh Digital Limited</td>\n",
       "      <td>.org</td>\n",
       "    </tr>\n",
       "    <tr>\n",
       "      <td>92953</td>\n",
       "      <td>Mesh Digital Limited</td>\n",
       "      <td>.org</td>\n",
       "    </tr>\n",
       "    <tr>\n",
       "      <td>92955</td>\n",
       "      <td>home.pl S.A.</td>\n",
       "      <td>.pl</td>\n",
       "    </tr>\n",
       "    <tr>\n",
       "      <td>92956</td>\n",
       "      <td>Metaregistrar B.V.</td>\n",
       "      <td>.nl</td>\n",
       "    </tr>\n",
       "  </tbody>\n",
       "</table>\n",
       "</div>"
      ],
      "text/plain": [
       "              registrarName   Ext.\n",
       "92949             Cronon AG  .info\n",
       "92952  Mesh Digital Limited   .org\n",
       "92953  Mesh Digital Limited   .org\n",
       "92955          home.pl S.A.    .pl\n",
       "92956    Metaregistrar B.V.    .nl"
      ]
     },
     "execution_count": 144,
     "metadata": {},
     "output_type": "execute_result"
    }
   ],
   "source": [
    "df_domains_regext.tail()"
   ]
  },
  {
   "cell_type": "markdown",
   "metadata": {},
   "source": [
    "## Exporting Analysis-Ready Data"
   ]
  },
  {
   "cell_type": "code",
   "execution_count": 145,
   "metadata": {
    "scrolled": true
   },
   "outputs": [],
   "source": [
    "df_uscovid.to_json(r'us_covid.json')\n",
    "df_domains_counts.to_json(r'domaincounts.json')\n",
    "df_domains_regext.to_json(r'domains.json')"
   ]
  }
 ],
 "metadata": {
  "kernelspec": {
   "display_name": "Python 3",
   "language": "python",
   "name": "python3"
  },
  "language_info": {
   "codemirror_mode": {
    "name": "ipython",
    "version": 3
   },
   "file_extension": ".py",
   "mimetype": "text/x-python",
   "name": "python",
   "nbconvert_exporter": "python",
   "pygments_lexer": "ipython3",
   "version": "3.7.4"
  }
 },
 "nbformat": 4,
 "nbformat_minor": 2
}
